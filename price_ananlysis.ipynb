{
 "cells": [
  {
   "cell_type": "code",
   "execution_count": 2,
   "id": "9fc11467",
   "metadata": {},
   "outputs": [
    {
     "name": "stdout",
     "output_type": "stream",
     "text": [
      "post          before        after  after_minus_before\n",
      "cluster                                              \n",
      "0        1997.885097  2104.154472          106.269375\n",
      "1        4534.339888  4670.512568          136.172680\n",
      "2        2999.955977  3159.696373          159.740396\n"
     ]
    }
   ],
   "source": [
    "import pandas as pd\n",
    "from heterogenity_clusters import get_trade_code_clusters\n",
    "# Read data\n",
    "df = pd.read_csv(\"pricing_treatment.csv\", parse_dates=[\"date\"])\n",
    "trade_clusters = get_trade_code_clusters(df, n_clusters=3)\n",
    "# Merge in cluster mapping (assuming you have trade_clusters dict from before)\n",
    "df[\"cluster\"] = df[\"trade_code\"].map(trade_clusters)\n",
    "\n",
    "# Define cut-off\n",
    "cutoff = df[\"date\"].max() - pd.Timedelta(days=60)\n",
    "df[\"post\"] = (df[\"date\"] >= cutoff).astype(int)\n",
    "\n",
    "# Average price by cluster and pre/post\n",
    "price_change = (\n",
    "    df.groupby([\"cluster\", \"post\"])[\"price\"]\n",
    "      .mean()\n",
    "      .unstack()       # columns: 0 = before, 1 = after\n",
    "      .rename(columns={0: \"before\", 1: \"after\"})\n",
    ")\n",
    "\n",
    "# Add a \"difference\" column\n",
    "price_change[\"after_minus_before\"] = price_change[\"after\"] - price_change[\"before\"]\n",
    "\n",
    "print(price_change)\n"
   ]
  },
  {
   "cell_type": "code",
   "execution_count": null,
   "id": "942174ee",
   "metadata": {},
   "outputs": [
    {
     "name": "stdout",
     "output_type": "stream",
     "text": [
      "=== Average price before & after by cluster and treatment ===\n",
      "post                before    after  after_minus_before\n",
      "cluster treatment                                      \n",
      "0       control    2005.93  1998.33               -7.60\n",
      "        treatment  1989.84  2209.98              220.14\n",
      "1       control    4492.14  4406.46              -85.68\n",
      "        treatment  4576.54  4934.56              358.03\n",
      "2       control    2994.59  2992.15               -2.43\n",
      "        treatment  3005.32  3327.24              321.91\n",
      "\n",
      "=== Price Difference-in-Differences within each cluster ===\n",
      "         treated_change  control_change  price_DiD\n",
      "cluster                                           \n",
      "0                220.14           -7.60     227.73\n",
      "1                358.03          -85.68     443.71\n",
      "2                321.91           -2.43     324.35\n"
     ]
    }
   ],
   "source": [
    "import numpy as np\n",
    "\n",
    "\n",
    "trade_clusters = get_trade_code_clusters(df, n_clusters=3)\n",
    "df[\"cluster\"] = df[\"trade_code\"].map(trade_clusters)\n",
    "\n",
    "# === 2. Define pre/post cut-off ===\n",
    "cutoff = df[\"date\"].max() - pd.Timedelta(days=60)\n",
    "df[\"post\"] = (df[\"date\"] >= cutoff).astype(int)\n",
    "\n",
    "# Standardize treatment column to lowercase strings\n",
    "df[\"treatment\"] = df[\"treatment\"].str.lower()\n",
    "\n",
    "# === 3. Avg price by cluster × treatment × pre/post ===\n",
    "price_change_tc = (\n",
    "    df.groupby([\"cluster\", \"treatment\", \"post\"])[\"price\"]\n",
    "      .mean()\n",
    "      .unstack()   # columns: 0 = before, 1 = after\n",
    "      .rename(columns={0: \"before\", 1: \"after\"})\n",
    ")\n",
    "price_change_tc[\"after_minus_before\"] = (\n",
    "    price_change_tc[\"after\"] - price_change_tc[\"before\"]\n",
    ")\n",
    "\n",
    "print(\"=== Average price before & after by cluster and treatment ===\")\n",
    "print(price_change_tc.round(2))\n",
    "\n",
    "# === 4. Optional: Compute within-cluster DiD for price ===\n",
    "# DiD = (after - before) for treated − (after - before) for control\n",
    "did_results = []\n",
    "for cluster_id, sub in price_change_tc.groupby(level=0):\n",
    "    try:\n",
    "        delta_treat = sub.loc[(cluster_id, \"treatment\"), \"after_minus_before\"]\n",
    "        delta_ctrl = sub.loc[(cluster_id, \"control\"), \"after_minus_before\"]\n",
    "        did = delta_treat - delta_ctrl\n",
    "    except KeyError:\n",
    "        delta_treat = np.nan\n",
    "        delta_ctrl = np.nan\n",
    "        did = np.nan\n",
    "    did_results.append({\n",
    "        \"cluster\": cluster_id,\n",
    "        \"treated_change\": delta_treat,\n",
    "        \"control_change\": delta_ctrl,\n",
    "        \"price_DiD\": did\n",
    "    })\n",
    "\n",
    "did_df = pd.DataFrame(did_results).set_index(\"cluster\")\n",
    "print(\"\\n=== Price Difference-in-Differences within each cluster ===\")\n",
    "print(did_df.round(2))\n"
   ]
  },
  {
   "cell_type": "code",
   "execution_count": 6,
   "id": "2c7f5beb",
   "metadata": {},
   "outputs": [
    {
     "data": {
      "image/png": "[encoded data removed]",
      "text/plain": [
       "<Figure size 1000x600 with 1 Axes>"
      ]
     },
     "metadata": {},
     "output_type": "display_data"
    }
   ],
   "source": [
    "import matplotlib.pyplot as plt\n",
    "\n",
    "# Reset index so cluster and treatment become columns for plotting\n",
    "plot_df = price_change_tc.reset_index()\n",
    "\n",
    "plt.figure(figsize=(10,6))\n",
    "for status, color in zip([\"treatment\", \"control\"], [\"#1f77b4\", \"#ff7f0e\"]):\n",
    "    subset = plot_df[plot_df[\"treatment\"] == status]\n",
    "    plt.bar(\n",
    "        subset[\"cluster\"] + (0.2 if status==\"treatment\" else -0.2),  # side-by-side\n",
    "        subset[\"after_minus_before\"],\n",
    "        width=0.4,\n",
    "        label=status.capitalize(),\n",
    "        color=color\n",
    "    )\n",
    "\n",
    "plt.axhline(0, color=\"black\", linewidth=1)\n",
    "plt.ylabel(\"Change in Average Price (After − Before)\")\n",
    "plt.xlabel(\"Cluster\")\n",
    "plt.title(\"Price change by Cluster and Treatment Status\")\n",
    "plt.legend()\n",
    "plt.tight_layout()\n",
    "plt.show()\n"
   ]
  },
  {
   "cell_type": "code",
   "execution_count": null,
   "id": "a590e90d",
   "metadata": {},
   "outputs": [],
   "source": []
  }
 ],
 "metadata": {
  "kernelspec": {
   "display_name": ".venv_maersk",
   "language": "python",
   "name": "python3"
  },
  "language_info": {
   "codemirror_mode": {
    "name": "ipython",
    "version": 3
   },
   "file_extension": ".py",
   "mimetype": "text/x-python",
   "name": "python",
   "nbconvert_exporter": "python",
   "pygments_lexer": "ipython3",
   "version": "3.13.5"
  }
 },
 "nbformat": 4,
 "nbformat_minor": 5
}
